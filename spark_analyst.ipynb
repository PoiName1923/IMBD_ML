{
 "cells": [
  {
   "cell_type": "markdown",
   "metadata": {},
   "source": [
    "## Library"
   ]
  },
  {
   "cell_type": "code",
   "execution_count": 1,
   "metadata": {},
   "outputs": [],
   "source": [
    "import os\n",
    "import re\n",
    "\n",
    "from pyspark.sql.session import SparkSession\n",
    "from pyspark.sql.functions import regexp_replace, col, when, split, expr, lower, sum, min, max, concat_ws"
   ]
  },
  {
   "cell_type": "code",
   "execution_count": 2,
   "metadata": {},
   "outputs": [],
   "source": [
    "from pyspark.ml.feature import HashingTF, IDF, Tokenizer\n",
    "from pyspark.sql.functions import udf, lit\n",
    "from pyspark.sql.types import DoubleType\n",
    "from pyspark.ml.linalg import DenseVector\n",
    " "
   ]
  },
  {
   "cell_type": "code",
   "execution_count": 3,
   "metadata": {},
   "outputs": [],
   "source": [
    "spark = SparkSession.builder \\\n",
    "    .appName(\"IMDB ML Project\") \\\n",
    "    .config(\"spark.pyspark.python\", \"python\") \\\n",
    "    .getOrCreate()"
   ]
  },
  {
   "cell_type": "markdown",
   "metadata": {},
   "source": [
    "## Data Proccessing"
   ]
  },
  {
   "cell_type": "markdown",
   "metadata": {},
   "source": [
    "#### Get Data From Local"
   ]
  },
  {
   "cell_type": "code",
   "execution_count": 4,
   "metadata": {},
   "outputs": [],
   "source": [
    "data_dir = \"../IMBD_ML/Data\"\n",
    "merged_data = None\n",
    "for folder in os.listdir(data_dir):\n",
    "    folder_path = os.path.join(data_dir, folder)\n",
    "    if os.path.isdir(folder_path):\n",
    "        for file in os.listdir(folder_path):\n",
    "            if file.startswith(\"merged_movies_data_\") and file.endswith(\".csv\"):\n",
    "                file_path = os.path.join(folder_path, file)\n",
    "                # Read CSV\n",
    "                data = spark.read.csv(file_path, header=True,inferSchema=True)\n",
    "\n",
    "                if merged_data is None:\n",
    "                    merged_data = data\n",
    "                else:\n",
    "                    merged_data = merged_data.union(data)\n",
    "        "
   ]
  },
  {
   "cell_type": "code",
   "execution_count": 5,
   "metadata": {},
   "outputs": [
    {
     "name": "stdout",
     "output_type": "stream",
     "text": [
      "root\n",
      " |-- Title: string (nullable = true)\n",
      " |-- Movie Link: string (nullable = true)\n",
      " |-- Year: integer (nullable = true)\n",
      " |-- Duration: string (nullable = true)\n",
      " |-- MPA: string (nullable = true)\n",
      " |-- Rating: double (nullable = true)\n",
      " |-- Votes: string (nullable = true)\n",
      " |-- budget: double (nullable = true)\n",
      " |-- grossWorldWide: double (nullable = true)\n",
      " |-- gross_US_Canada: double (nullable = true)\n",
      " |-- opening_weekend_Gross: double (nullable = true)\n",
      " |-- directors: string (nullable = true)\n",
      " |-- writers: string (nullable = true)\n",
      " |-- stars: string (nullable = true)\n",
      " |-- genres: string (nullable = true)\n",
      " |-- countries_origin: string (nullable = true)\n",
      " |-- filming_locations: string (nullable = true)\n",
      " |-- production_companies: string (nullable = true)\n",
      " |-- Languages: string (nullable = true)\n",
      " |-- wins: string (nullable = true)\n",
      " |-- nominations: string (nullable = true)\n",
      " |-- oscars: string (nullable = true)\n",
      " |-- release_date: string (nullable = true)\n",
      "\n"
     ]
    }
   ],
   "source": [
    "merged_data.printSchema()"
   ]
  },
  {
   "cell_type": "markdown",
   "metadata": {},
   "source": [
    "#### Cleaning Data"
   ]
  },
  {
   "cell_type": "code",
   "execution_count": 6,
   "metadata": {},
   "outputs": [],
   "source": [
    "# Clean names\n",
    "for col_name in merged_data.columns:\n",
    "    merged_data = merged_data.withColumn(col_name, lower(col(col_name)))\n",
    "    merged_data = merged_data.withColumnRenamed(col_name, col_name.lower().strip().replace(\" \",\"_\"))"
   ]
  },
  {
   "cell_type": "code",
   "execution_count": 7,
   "metadata": {},
   "outputs": [],
   "source": [
    "# Extract ID , drop movie link\n",
    "merged_data = merged_data.withColumn(\"movie_link\", regexp_replace(col(\"movie_link\"), r\"/\\?ref_=.*$\", \"\"))\n",
    "merged_data = merged_data.withColumn(\"id\",\\\n",
    "                                    when(col(\"movie_link\").contains(\"/\"),\\\n",
    "                                    split(col(\"movie_link\"), \"/\").getItem(4)).otherwise(None))\n",
    "merged_data = merged_data.drop('movie_link')"
   ]
  },
  {
   "cell_type": "code",
   "execution_count": 8,
   "metadata": {},
   "outputs": [],
   "source": [
    "# Change Duration to numeric\n",
    "merged_data = merged_data.withColumn(\"duration\", regexp_replace(col(\"duration\"), \"h\", \"\"))\n",
    "merged_data = merged_data.withColumn(\"duration\", regexp_replace(col(\"duration\"), \"m\", \"\"))\n",
    "\n",
    "merged_data = merged_data.withColumn(\"duration\",\n",
    "    when(col(\"duration\").contains(\" \"), \n",
    "         (split(col(\"duration\"), \" \").getItem(0).cast(\"float\") * expr(\"3600\")) +  # Giờ -> Phút\n",
    "         split(col(\"duration\"), \" \").getItem(1).cast(\"float\") * expr(\"60\"))                   # Phút\n",
    "    .otherwise(col(\"duration\").cast(\"float\") * expr(\"60\"))  # Nếu chỉ có số phút, giữ nguyên\n",
    ")\n"
   ]
  },
  {
   "cell_type": "code",
   "execution_count": 9,
   "metadata": {},
   "outputs": [],
   "source": [
    "# Change to numeric\n",
    "col_names = ['rating', 'budget', 'votes', 'grossworldwide', 'gross_us_canada', 'opening_weekend_gross']\n",
    "\n",
    "for col_name in col_names:\n",
    "    merged_data = merged_data.withColumn(col_name, col(col_name).cast(\"float\"))\n",
    "    merged_data = merged_data.withColumn(\n",
    "        col_name,\n",
    "        when(col(col_name).contains('k'), regexp_replace(col(col_name), 'k', '').cast(\"float\") * 1_000)\n",
    "        .when(col(col_name).contains('m'), regexp_replace(col(col_name), 'm', '').cast(\"float\") * 1_000_000)\n",
    "        .when(col(col_name).contains('b'), regexp_replace(col(col_name), 'b', '').cast(\"float\") * 1_000_000_000)\n",
    "        .otherwise(col(col_name).cast(\"float\"))\n",
    "    )"
   ]
  },
  {
   "cell_type": "code",
   "execution_count": 10,
   "metadata": {},
   "outputs": [],
   "source": [
    "# Remove [ ] ' \"\n",
    "col_names = ['directors','writers','stars','genres','countries_origin','filming_locations','production_companies','languages','wins']\n",
    "for col_name in col_names:\n",
    "    merged_data = merged_data.withColumn(col_name, \n",
    "                                     regexp_replace(col(col_name), r\"[\\[\\]\\'\\\"]\", \"\"))"
   ]
  },
  {
   "cell_type": "code",
   "execution_count": 11,
   "metadata": {},
   "outputs": [],
   "source": [
    "# Remove number front title\n",
    "merged_data = merged_data.withColumn(\"title\", regexp_replace(col(\"title\"), r\"^\\d+\\.\\s*\", \"\"))"
   ]
  },
  {
   "cell_type": "code",
   "execution_count": 12,
   "metadata": {},
   "outputs": [],
   "source": [
    "#  Drop Duplicate\n",
    "merged_data = merged_data.dropDuplicates(['id'])\n",
    "# Drop unsuitable\n",
    "merged_data = merged_data.drop(col('release_date'))"
   ]
  },
  {
   "cell_type": "markdown",
   "metadata": {},
   "source": [
    "#### Recommend model"
   ]
  },
  {
   "cell_type": "code",
   "execution_count": 13,
   "metadata": {},
   "outputs": [],
   "source": [
    "col_for_rec = ['id','title','directors','stars','genres','languages']\n",
    "rec_data = merged_data.select(*col_for_rec)\n",
    "rec_data = rec_data.withColumn('combind',\n",
    "                               concat_ws(\" \", col(\"directors\"),\n",
    "                                         col(\"stars\"), col(\"genres\"),\n",
    "                                         col(\"languages\")))\n",
    "rec_data = rec_data.withColumn(\n",
    "    'combind',\n",
    "    regexp_replace(\n",
    "        regexp_replace(col('combind'), ', ', ''),  # Thay thế dấu phẩy và dấu cách\n",
    "        \"'\", ''  # Thay thế dấu nháy đơn\n",
    "    )\n",
    ")"
   ]
  },
  {
   "cell_type": "code",
   "execution_count": 14,
   "metadata": {},
   "outputs": [],
   "source": [
    "# Tokenizer\n",
    "token = Tokenizer(inputCol='combind',outputCol='words')\n",
    "combind_data = token.transform(rec_data)\n",
    "\n",
    "# IF-IDF\n",
    "hashingTF = HashingTF(inputCol = \"words\", outputCol=\"rawfeatures\", numFeatures = 50000)\n",
    "tf = hashingTF.transform(combind_data)\n",
    "idf = IDF(inputCol='rawfeatures',outputCol='features')\n",
    "tf_idf = idf.fit(tf)\n",
    "\n",
    "# data final\n",
    "tf_idf_data = tf_idf.transform(tf).select('id','title','features')"
   ]
  },
  {
   "cell_type": "code",
   "execution_count": 15,
   "metadata": {},
   "outputs": [],
   "source": [
    "def Get_ID_Movie(movie_name, data):\n",
    "    res = data.filter(col('title').contains(movie_name)).select('id','title')\n",
    "    return res if res else None"
   ]
  },
  {
   "cell_type": "code",
   "execution_count": 16,
   "metadata": {},
   "outputs": [],
   "source": [
    "def Recommend_Movie_Based_ID(id_movie, data, top_rec=5):\n",
    "    # Lấy vector của phim cần tìm\n",
    "    movie_vector_row = data.filter(data['id'] == id_movie).select(\"features\").collect()\n",
    "    \n",
    "    # Kiểm tra nếu không tìm thấy phim\n",
    "    if not movie_vector_row:\n",
    "        print(f\"Can't find: '{id_movie}' in dataset!\")\n",
    "        return None\n",
    "    \n",
    "    movie_vector = movie_vector_row[0]['features']\n",
    "\n",
    "    # Cosine similarity function\n",
    "    def cosine_similarity(vec1, vec2):\n",
    "        vec1, vec2 = DenseVector(vec1), DenseVector(vec2)\n",
    "        dot_product = float(vec1.dot(vec2))\n",
    "        norm1 = float(vec1.norm(2))\n",
    "        norm2 = float(vec2.norm(2))\n",
    "        return dot_product / (norm1 * norm2) if norm1 * norm2 != 0 else 0.0\n",
    "    \n",
    "    cosine_sim_udf = udf(lambda x : cosine_similarity(x,movie_vector), DoubleType())\n",
    "    \n",
    "    # Tính cosine similarity\n",
    "    top_rec_movie = (\n",
    "        data.withColumn(\"similarity_score\", cosine_sim_udf(col(\"features\")))\n",
    "        .orderBy(col(\"similarity_score\").desc())\n",
    "        .select(\"id\", \"title\")\n",
    "    )\n",
    "    \n",
    "    return top_rec_movie.limit(top_rec)"
   ]
  },
  {
   "cell_type": "code",
   "execution_count": 17,
   "metadata": {},
   "outputs": [],
   "source": [
    "def Get_Recommend_Movie(name, data):\n",
    "    list_id = Get_ID_Movie(name,data).select('id').collect()\n",
    "    \n",
    "    if len(list_id) == 1:\n",
    "        return Recommend_Movie_Based_ID(list_id[0]['id'], data)\n",
    "\n",
    "    if len(list_id) != 1:\n",
    "        return None"
   ]
  },
  {
   "cell_type": "code",
   "execution_count": null,
   "metadata": {},
   "outputs": [
    {
     "name": "stdout",
     "output_type": "stream",
     "text": [
      "I found multiple movies. Here is a recommendation based on: end game\n"
     ]
    }
   ],
   "source": [
    "movie_title = 'end game'\n",
    "res = Get_Recommend_Movie(movie_title,tf_idf_data)\n",
    "if res:\n",
    "    print(f'I found multiple movies. Here is a recommendation based on: {movie_title}')\n",
    "    res.show()\n",
    "else:\n",
    "    print(f'I cant find this {movie_title} in database. Please provide more detailed information about the name.')"
   ]
  }
 ],
 "metadata": {
  "kernelspec": {
   "display_name": "Python 3",
   "language": "python",
   "name": "python3"
  },
  "language_info": {
   "codemirror_mode": {
    "name": "ipython",
    "version": 3
   },
   "file_extension": ".py",
   "mimetype": "text/x-python",
   "name": "python",
   "nbconvert_exporter": "python",
   "pygments_lexer": "ipython3",
   "version": "3.12.5"
  }
 },
 "nbformat": 4,
 "nbformat_minor": 2
}
